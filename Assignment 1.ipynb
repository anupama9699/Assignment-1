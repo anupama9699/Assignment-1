{
 "cells": [
  {
   "cell_type": "markdown",
   "id": "a5cf7f43",
   "metadata": {},
   "source": [
    "# a. Read a matrix A from a csv file and a vector b from another        csv file\n",
    "\n",
    "\n",
    "\n",
    "\n",
    "\n",
    "\n",
    "\n"
   ]
  },
  {
   "cell_type": "code",
   "execution_count": 2,
   "id": "ed6b02f5",
   "metadata": {},
   "outputs": [],
   "source": [
    "import numpy as np\n",
    "import pandas as pd\n",
    "from scipy.linalg import lu\n",
    "import matplotlib.pyplot as plt"
   ]
  },
  {
   "cell_type": "code",
   "execution_count": 55,
   "id": "bb1aa310",
   "metadata": {},
   "outputs": [
    {
     "name": "stdout",
     "output_type": "stream",
     "text": [
      "A =\n",
      "[[ 4 -2 -3  1]\n",
      " [ 1  3  1  3]\n",
      " [ 1  2 -1 -2]\n",
      " [ 2  1 -1 -1]]\n"
     ]
    }
   ],
   "source": [
    "csvdata1 = pd.read_csv('C:/Users/annuk/.vscode/Desktop/python/matrix.csv', header=None)\n",
    "M=csvdata1.to_numpy()\n",
    "print('A =')\n",
    "print(M)"
   ]
  },
  {
   "cell_type": "markdown",
   "id": "c7b4fbdf",
   "metadata": {},
   "source": [
    "Here, we read a matrix A from csv i.e csvdata1 "
   ]
  },
  {
   "cell_type": "code",
   "execution_count": 6,
   "id": "7fccc063",
   "metadata": {},
   "outputs": [
    {
     "name": "stdout",
     "output_type": "stream",
     "text": [
      "b =\n",
      "[[20]\n",
      " [14]\n",
      " [ 3]\n",
      " [ 9]]\n"
     ]
    }
   ],
   "source": [
    "csvdata2 = pd.read_csv('C:/Users/annuk/.vscode/Desktop/python/vector.csv', header=None)\n",
    "Vector=csvdata2.to_numpy()\n",
    "print('b =')\n",
    "print(Vector)"
   ]
  },
  {
   "cell_type": "markdown",
   "id": "e0d5b055",
   "metadata": {},
   "source": [
    "Here, we read vector b from another csv i.e csvdata2"
   ]
  },
  {
   "cell_type": "markdown",
   "id": "abc86f15",
   "metadata": {},
   "source": [
    "# b. Perform LU decomposition for square matrix"
   ]
  },
  {
   "cell_type": "markdown",
   "id": "22de25ef",
   "metadata": {},
   "source": [
    "LU decomposition of a matrix is the factorization of a given square matrix into two triangular matrices, one upper triangular matrix and one lower triangular matrix, such that the product of these two matrices gives the original matrix. \n",
    "Here,\n",
    "In LU decomposition of a matrix A, we want to do\n",
    "A=PLU\n",
    "Where, A= Given square matrix \n",
    "       P= Permutation matrix\n",
    "       L= Lower triangular matrix\n",
    "       U= Upper triangular matrix"
   ]
  },
  {
   "cell_type": "code",
   "execution_count": 56,
   "id": "1261434b",
   "metadata": {},
   "outputs": [
    {
     "name": "stdout",
     "output_type": "stream",
     "text": [
      "A =\n",
      "[[ 4 -2 -3  1]\n",
      " [ 1  3  1  3]\n",
      " [ 1  2 -1 -2]\n",
      " [ 2  1 -1 -1]]\n"
     ]
    }
   ],
   "source": [
    "print(\"A =\")\n",
    "print(M)\n"
   ]
  },
  {
   "cell_type": "code",
   "execution_count": 57,
   "id": "117baa35",
   "metadata": {},
   "outputs": [],
   "source": [
    "P, L, U = lu(M)"
   ]
  },
  {
   "cell_type": "markdown",
   "id": "25184f39",
   "metadata": {},
   "source": [
    "The Scipy library holds many packages available to help in scientific computing. One such built-in package is linalg. Linalg enables solving linear algebra routines very quickly. One such linear algebra function is solving LU. It can easily be computed using lu() method. This method automatically computes P,L and U."
   ]
  },
  {
   "cell_type": "code",
   "execution_count": 58,
   "id": "b66f4545",
   "metadata": {},
   "outputs": [
    {
     "name": "stdout",
     "output_type": "stream",
     "text": [
      "The P Matrix is :\n",
      "[[1. 0. 0. 0.]\n",
      " [0. 1. 0. 0.]\n",
      " [0. 0. 1. 0.]\n",
      " [0. 0. 0. 1.]]\n",
      "\n",
      "The L Matrix is :\n",
      "[[1.         0.         0.         0.        ]\n",
      " [0.25       1.         0.         0.        ]\n",
      " [0.25       0.71428571 1.         0.        ]\n",
      " [0.5        0.57142857 0.33333333 1.        ]]\n",
      "\n",
      "The U Matrix is :\n",
      "[[ 4.         -2.         -3.          1.        ]\n",
      " [ 0.          3.5         1.75        2.75      ]\n",
      " [ 0.          0.         -1.5        -4.21428571]\n",
      " [ 0.          0.          0.         -1.66666667]]\n"
     ]
    }
   ],
   "source": [
    "print('The P Matrix is :')\n",
    "print(P)\n",
    "print()\n",
    "print('The L Matrix is :')\n",
    "print(L)\n",
    "print()\n",
    "print('The U Matrix is :')\n",
    "print(U)"
   ]
  },
  {
   "cell_type": "markdown",
   "id": "f0b58291",
   "metadata": {},
   "source": [
    "Now, we want to check A=PLU"
   ]
  },
  {
   "cell_type": "code",
   "execution_count": 60,
   "id": "b037762a",
   "metadata": {},
   "outputs": [
    {
     "name": "stdout",
     "output_type": "stream",
     "text": [
      "True\n"
     ]
    }
   ],
   "source": [
    "k=np.allclose(P@(L@U), M)\n",
    "print(k)"
   ]
  },
  {
   "cell_type": "markdown",
   "id": "d4fbf7bb",
   "metadata": {},
   "source": [
    "# c. Solve the equation AX=b and check whether there are 0, 1 or infinitely many solutions"
   ]
  },
  {
   "cell_type": "markdown",
   "id": "3a3220e9",
   "metadata": {},
   "source": [
    "We will start with a system of linera equation in matrix from (AX=b). As we take an example, \n",
    "4a-2b-3c+d= 20\n",
    "a+3b+c+3d= 14\n",
    "a+2b-c-2d= 3\n",
    "2a+b-c-d= 9"
   ]
  },
  {
   "cell_type": "code",
   "execution_count": 61,
   "id": "919ade60",
   "metadata": {},
   "outputs": [
    {
     "name": "stdout",
     "output_type": "stream",
     "text": [
      "A=\n",
      "[[ 4 -2 -3  1]\n",
      " [ 1  3  1  3]\n",
      " [ 1  2 -1 -2]\n",
      " [ 2  1 -1 -1]]\n",
      "b=\n",
      "[[20]\n",
      " [14]\n",
      " [ 3]\n",
      " [ 9]]\n"
     ]
    }
   ],
   "source": [
    "print('A=')\n",
    "print(M)\n",
    "print('b=')\n",
    "print(b)"
   ]
  },
  {
   "cell_type": "code",
   "execution_count": 62,
   "id": "4abf86c3",
   "metadata": {},
   "outputs": [],
   "source": [
    "X=np.linalg.solve(M, b)"
   ]
  },
  {
   "cell_type": "markdown",
   "id": "7c152261",
   "metadata": {},
   "source": [
    "The numpy.linalg.solve() function solve a linear matrix equation, or system of linear scalar equation. Computes the \"exact\" solution, X, of the well-determined, i.e., full rank, linear matrix equation AX=b"
   ]
  },
  {
   "cell_type": "code",
   "execution_count": 63,
   "id": "31ea6897",
   "metadata": {},
   "outputs": [
    {
     "name": "stdout",
     "output_type": "stream",
     "text": [
      "X= [[ 5.]\n",
      " [ 1.]\n",
      " [-0.]\n",
      " [ 2.]]\n"
     ]
    }
   ],
   "source": [
    "print('X=', X)"
   ]
  },
  {
   "cell_type": "code",
   "execution_count": 66,
   "id": "b0297edd",
   "metadata": {},
   "outputs": [],
   "source": [
    "MX=np.matmul(M, X)"
   ]
  },
  {
   "cell_type": "markdown",
   "id": "76d777bd",
   "metadata": {},
   "source": [
    "The numpy.matmul() function returns the matrix product of two arrays."
   ]
  },
  {
   "cell_type": "code",
   "execution_count": 67,
   "id": "f9f188c0",
   "metadata": {},
   "outputs": [
    {
     "name": "stdout",
     "output_type": "stream",
     "text": [
      "True\n"
     ]
    }
   ],
   "source": [
    "q=np.allclose(MX, b)\n",
    "print(q)"
   ]
  },
  {
   "cell_type": "markdown",
   "id": "0daab98b",
   "metadata": {},
   "source": [
    "Thus, our solution for X verified"
   ]
  },
  {
   "cell_type": "markdown",
   "id": "9ecb3ec0",
   "metadata": {},
   "source": [
    "# d. Do the diagonalization of matrix (assume it is symmetric) "
   ]
  },
  {
   "cell_type": "markdown",
   "id": "b4d7115a",
   "metadata": {},
   "source": [
    "All symmetric matrices are orthogonally diagonalizable. That is, if the eigenvectors are formed as the columns of a matrix and the columns are normalized, then the matrix is isometric, or orthogonal."
   ]
  },
  {
   "cell_type": "code",
   "execution_count": 68,
   "id": "bbd23fbe",
   "metadata": {},
   "outputs": [
    {
     "name": "stdout",
     "output_type": "stream",
     "text": [
      "Given matrix \n",
      " A= \n",
      "[[ 2 -5 -4]\n",
      " [-5  3 -5]\n",
      " [-4 -5  2]]\n"
     ]
    }
   ],
   "source": [
    "from   numpy.linalg import inv, matrix_power as pow\n",
    "A = np.array([[2,-5,-4],[-5,3,-5],[-4,-5,2]])\n",
    "print(\"Given matrix \\n A= \")\n",
    "print(A)"
   ]
  },
  {
   "cell_type": "markdown",
   "id": "88f1792d",
   "metadata": {},
   "source": [
    "Now, we have to find the eigenvalues and the corresponding eigenvectors.\n"
   ]
  },
  {
   "cell_type": "code",
   "execution_count": 35,
   "id": "bbb5ade5",
   "metadata": {},
   "outputs": [
    {
     "name": "stdout",
     "output_type": "stream",
     "text": [
      "A diagonal matrix with the eigenvalues on the diagonal\n",
      "D =\n",
      "[[-7.  0.  0.]\n",
      " [ 0.  6.  0.]\n",
      " [ 0.  0.  8.]]\n",
      "A matrix where the columns arenormalized eigenvectors\n",
      "U =\n",
      "[[ 5.77350269e-01  7.07106781e-01  4.08248290e-01]\n",
      " [ 5.77350269e-01 -4.45537400e-17 -8.16496581e-01]\n",
      " [ 5.77350269e-01 -7.07106781e-01  4.08248290e-01]]\n"
     ]
    }
   ],
   "source": [
    "e, U = np.linalg.eig( A )\n",
    "D = np.diag( e )\n",
    "print( \"A diagonal matrix with the eigenvalues on the diagonal\" )\n",
    "print( \"D =\" )\n",
    "print( D )\n",
    "print( \"A matrix where the columns are normalized eigenvectors\" )\n",
    "print( \"U =\" )\n",
    "print( U )"
   ]
  },
  {
   "cell_type": "markdown",
   "id": "0fac7900",
   "metadata": {},
   "source": [
    "The np.linalg.eig() function compute the eigenvalues and right eigenvectors of a square array.\n",
    "The np.diag() function extract a diagonal or construct a diagonal array.\n",
    "There will be three eigenvalues,so 'e' is a 1-d array of length three containing the three   eigenvalues. "
   ]
  },
  {
   "cell_type": "code",
   "execution_count": 41,
   "id": "b2e3c272",
   "metadata": {},
   "outputs": [
    {
     "name": "stdout",
     "output_type": "stream",
     "text": [
      "UT  =\n",
      "[[ 5.77350269e-01  5.77350269e-01  5.77350269e-01]\n",
      " [ 7.07106781e-01 -4.45537400e-17 -7.07106781e-01]\n",
      " [ 4.08248290e-01 -8.16496581e-01  4.08248290e-01]]\n",
      "Uinv   =\n",
      "[[ 5.77350269e-01  5.77350269e-01  5.77350269e-01]\n",
      " [ 7.07106781e-01 -2.56395025e-16 -7.07106781e-01]\n",
      " [ 4.08248290e-01 -8.16496581e-01  4.08248290e-01]]\n",
      "\n",
      "UDUT  =\n",
      "[[ 2. -5. -4.]\n",
      " [-5.  3. -5.]\n",
      " [-4. -5.  2.]]\n"
     ]
    }
   ],
   "source": [
    "print( \"UT  =\" )\n",
    "print( U.T )\n",
    "print( \"Uinv   =\" )\n",
    "print( inv( U ) )\n",
    "print()\n",
    "print( \"UDUT  =\" )\n",
    "print( U@D@(U.T) )\n",
    "z=U@D@(U.T)"
   ]
  },
  {
   "cell_type": "code",
   "execution_count": 42,
   "id": "78b33b68",
   "metadata": {},
   "outputs": [
    {
     "name": "stdout",
     "output_type": "stream",
     "text": [
      "True\n"
     ]
    }
   ],
   "source": [
    "print(np.allclose(z, A))"
   ]
  },
  {
   "cell_type": "markdown",
   "id": "c4089a51",
   "metadata": {},
   "source": [
    "It is concluded that A = UDUT, where U is orthogonal  and D is diagonal."
   ]
  },
  {
   "cell_type": "code",
   "execution_count": 46,
   "id": "ee28073c",
   "metadata": {},
   "outputs": [
    {
     "name": "stdout",
     "output_type": "stream",
     "text": [
      "\n",
      "Eigenvalue and vector\n",
      "0\n",
      "\n",
      "Eigenvalue: \n",
      "-7.000000000000001\n",
      "\n",
      "Eigenvector:\n",
      "[0.57735027 0.57735027 0.57735027]\n",
      "\n",
      "Au =\n",
      "[-4.04145188 -4.04145188 -4.04145188]\n",
      "\n",
      "-7.000000000000001 u = [-4.04145188 -4.04145188 -4.04145188]\n",
      "\n",
      "Eigenvalue and vector\n",
      "1\n",
      "\n",
      "Eigenvalue: \n",
      "6.000000000000006\n",
      "\n",
      "Eigenvector:\n",
      "[ 7.07106781e-01 -4.45537400e-17 -7.07106781e-01]\n",
      "\n",
      "Au =\n",
      "[ 4.24264069e+00  5.55111512e-16 -4.24264069e+00]\n",
      "\n",
      "6.000000000000006 u = [ 4.24264069e+00 -2.67322440e-16 -4.24264069e+00]\n",
      "\n",
      "Eigenvalue and vector\n",
      "2\n",
      "\n",
      "Eigenvalue: \n",
      "8.000000000000002\n",
      "\n",
      "Eigenvector:\n",
      "[ 0.40824829 -0.81649658  0.40824829]\n",
      "\n",
      "Au =\n",
      "[ 3.26598632 -6.53197265  3.26598632]\n",
      "\n",
      "8.000000000000002 u = [ 3.26598632 -6.53197265  3.26598632]\n"
     ]
    }
   ],
   "source": [
    "for k in range( 0, 3 ):\n",
    "  u = U[:,k]\n",
    "  print()\n",
    "  print( \"Eigenvalue and vector\")\n",
    "  print(k)\n",
    "  print()\n",
    "  print( \"Eigenvalue: \")\n",
    "  print(e[k])\n",
    "  print()\n",
    "  print( \"Eigenvector:\")\n",
    "  print(u)\n",
    "  print()\n",
    "  print( \"Au =\")\n",
    "  print(A@u)\n",
    "  print()\n",
    "  print( e[k], \"u =\", e[k]*u )\n",
    "\n",
    "  "
   ]
  },
  {
   "cell_type": "markdown",
   "id": "212bb7b8",
   "metadata": {},
   "source": [
    "# e. Give exponential, sine and sigmoid function on A"
   ]
  },
  {
   "cell_type": "code",
   "execution_count": 71,
   "id": "38e12c93",
   "metadata": {},
   "outputs": [
    {
     "name": "stdout",
     "output_type": "stream",
     "text": [
      "Exponential Function on A : \n",
      "[[5.45981500e+01 1.35335283e-01 4.97870684e-02 2.71828183e+00]\n",
      " [2.71828183e+00 2.00855369e+01 2.71828183e+00 2.00855369e+01]\n",
      " [2.71828183e+00 7.38905610e+00 3.67879441e-01 1.35335283e-01]\n",
      " [7.38905610e+00 2.71828183e+00 3.67879441e-01 3.67879441e-01]]\n"
     ]
    },
    {
     "data": {
      "image/png": "[encoded data removed]",
      "text/plain": [
       "<Figure size 640x480 with 1 Axes>"
      ]
     },
     "metadata": {},
     "output_type": "display_data"
    }
   ],
   "source": [
    "def exponenstial(x):\n",
    "    return np.exp(x)\n",
    "        \n",
    "e=[exponenstial(i) for i in M]\n",
    "print(\"Exponential Function on A : \")  \n",
    "print(np.array(e))  \n",
    "ee=np.array(e)\n",
    "plt.plot(M, ee, marker=\">\")\n",
    "plt.title(\"Exponential graph\")\n",
    "plt.grid()\n",
    "plt.show() "
   ]
  },
  {
   "cell_type": "markdown",
   "id": "9598e97c",
   "metadata": {},
   "source": [
    "The np.exp() mathematical function helps to calculate exponential of all the elements in the input array.\n",
    "The plot() function is used to draw points (markers) in a diagram."
   ]
  },
  {
   "cell_type": "code",
   "execution_count": 74,
   "id": "c0803222",
   "metadata": {},
   "outputs": [
    {
     "name": "stdout",
     "output_type": "stream",
     "text": [
      "Sin Function on A : \n",
      "[[-0.7568025  -0.90929743 -0.14112001  0.84147098]\n",
      " [ 0.84147098  0.14112001  0.84147098  0.14112001]\n",
      " [ 0.84147098  0.90929743 -0.84147098 -0.90929743]\n",
      " [ 0.90929743  0.84147098 -0.84147098 -0.84147098]]\n"
     ]
    },
    {
     "data": {
      "image/png": "[encoded data removed]",
      "text/plain": [
       "<Figure size 640x480 with 1 Axes>"
      ]
     },
     "metadata": {},
     "output_type": "display_data"
    }
   ],
   "source": [
    "def sinfun(x):\n",
    "    return np.sin(x)\n",
    "s=[sinfun(i) for i in M]\n",
    "print(\"Sin Function on A : \")  \n",
    "print(np.array(s))  \n",
    "ss=np.array(s)\n",
    "plt.plot(M, ss, marker=\"+\")\n",
    "plt.title(\"Sin graph\")\n",
    "plt.grid()\n",
    "plt.show()"
   ]
  },
  {
   "cell_type": "markdown",
   "id": "abbd7f8c",
   "metadata": {},
   "source": [
    "The np.sin() function help to find sine value of the angle in degree and radian."
   ]
  },
  {
   "cell_type": "code",
   "execution_count": 84,
   "id": "e5922c3b",
   "metadata": {},
   "outputs": [
    {
     "name": "stdout",
     "output_type": "stream",
     "text": [
      "Sigmoid Function on A : \n",
      "[[0.98201379 0.11920292 0.04742587 0.73105858]\n",
      " [0.73105858 0.95257413 0.73105858 0.95257413]\n",
      " [0.73105858 0.88079708 0.26894142 0.11920292]\n",
      " [0.88079708 0.73105858 0.26894142 0.26894142]]\n"
     ]
    },
    {
     "data": {
      "image/png": "[encoded data removed]",
      "text/plain": [
       "<Figure size 640x480 with 1 Axes>"
      ]
     },
     "metadata": {},
     "output_type": "display_data"
    }
   ],
   "source": [
    "def sigmoid(x):\n",
    "    return(1/(1+np.exp(-x)))\n",
    "sig=[sigmoid(i) for i in M]\n",
    "print(\"Sigmoid Function on A : \")  \n",
    "print(np.array(sig))  \n",
    "sigg=np.array(sig)\n",
    "plt.plot(M, sigg, marker=\"*\")\n",
    "plt.title(\"Sigmoid graph\")\n",
    "plt.grid()\n",
    "plt.show() \n"
   ]
  },
  {
   "cell_type": "markdown",
   "id": "dd71fbf0",
   "metadata": {},
   "source": [
    "# f. Find all the eigenpairs of A"
   ]
  },
  {
   "cell_type": "code",
   "execution_count": 83,
   "id": "d515bae5",
   "metadata": {},
   "outputs": [
    {
     "name": "stdout",
     "output_type": "stream",
     "text": [
      "A =\n",
      "[[ 4 -2 -3  1]\n",
      " [ 1  3  1  3]\n",
      " [ 1  2 -1 -2]\n",
      " [ 2  1 -1 -1]]\n",
      "\n",
      "Eigen Values are : \n",
      "[ 4.21878093+2.15573221j  4.21878093-2.15573221j -2.89982325+0.j\n",
      " -0.53773861+0.j        ]\n",
      "\n",
      "Eigen Vectors are : \n",
      "[[ 0.72219808+0.j          0.72219808-0.j         -0.16630017+0.j\n",
      "  -0.4857832 +0.j        ]\n",
      " [ 0.02834461-0.61239229j  0.02834461+0.61239229j  0.38829523+0.j\n",
      "   0.22454079+0.j        ]\n",
      " [-0.00115756-0.16815119j -0.00115756+0.16815119j -0.78966697+0.j\n",
      "  -0.82688998+0.j        ]\n",
      " [ 0.21121971-0.17237249j  0.21121971+0.17237249j -0.44496869+0.j\n",
      "   0.17276885+0.j        ]]\n"
     ]
    }
   ],
   "source": [
    "print('A =')\n",
    "print(M)\n",
    "e, ev=np.linalg.eig(M)\n",
    "print()\n",
    "print(\"Eigen Values are : \")\n",
    "print(e)\n",
    "print()\n",
    "print(\"Eigen Vectors are : \")\n",
    "print(ev)"
   ]
  },
  {
   "cell_type": "code",
   "execution_count": null,
   "id": "332e7f12",
   "metadata": {},
   "outputs": [],
   "source": []
  }
 ],
 "metadata": {
  "kernelspec": {
   "display_name": "Python 3 (ipykernel)",
   "language": "python",
   "name": "python3"
  },
  "language_info": {
   "codemirror_mode": {
    "name": "ipython",
    "version": 3
   },
   "file_extension": ".py",
   "mimetype": "text/x-python",
   "name": "python",
   "nbconvert_exporter": "python",
   "pygments_lexer": "ipython3",
   "version": "3.11.1"
  }
 },
 "nbformat": 4,
 "nbformat_minor": 5
}
